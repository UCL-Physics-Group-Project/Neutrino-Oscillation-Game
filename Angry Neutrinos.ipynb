{
 "cells": [
  {
   "cell_type": "code",
   "execution_count": 1,
   "metadata": {},
   "outputs": [
    {
     "data": {
      "text/html": [
       "<div id=\"glowscript\" class=\"glowscript\"></div>"
      ],
      "text/plain": [
       "<IPython.core.display.HTML object>"
      ]
     },
     "metadata": {},
     "output_type": "display_data"
    },
    {
     "data": {
      "application/javascript": [
       "if (typeof Jupyter !== \"undefined\") { window.__context = { glowscript_container: $(\"#glowscript\").removeAttr(\"id\")};}else{ element.textContent = ' ';}"
      ],
      "text/plain": [
       "<IPython.core.display.Javascript object>"
      ]
     },
     "metadata": {},
     "output_type": "display_data"
    }
   ],
   "source": [
    "#####################################   Importing data   #########################################################################################\n",
    "\n",
    "import numpy as np\n",
    "from vpython import *\n",
    "from ipywidgets import interactive\n",
    "from IPython.display import clear_output\n",
    "from playsound import playsound\n",
    "import _thread\n",
    "import time\n",
    "\n",
    "###############################################################################################################################"
   ]
  },
  {
   "cell_type": "code",
   "execution_count": 2,
   "metadata": {},
   "outputs": [],
   "source": [
    "# mixing factors (converted from degrees to radians)\n",
    "th12 = np.radians(33.82)\n",
    "th23 = np.radians(48.3)\n",
    "th13 = np.radians(8.61)\n",
    "delta_CP = np.radians(222)\n",
    "#delta_CP = 0\n",
    "\n",
    "# mass differences\n",
    "dm21_sq = 7.39*10**(-5) # eV^2\n",
    "dm31_sq = 2.523*10**(-3) # eV^2\n",
    "\n",
    "# mass eigenstates\n",
    "m1 = 0.01 # eV\n",
    "m2 = np.sqrt(m1*m1 + dm21_sq) # eV\n",
    "m3 = np.sqrt(m1*m1 + dm31_sq) # eV \n",
    "\n",
    "# total mass \n",
    "mtot = m1 + m2 + m3 #eV\n",
    "assert mtot < 0.23, \"Error: total mass not in agreement with experimental bounds\"\n",
    "\n",
    "# calculate third mass difference squared\n",
    "dm32_sq = m3*m3 - m2*m2 # eV^2\n",
    "\n",
    "# set energy values\n",
    "E_sun_pp = 4*10**5 # eV \n",
    "E_atm = 10**11 # eV\n",
    "E_acc = 10**9 #eV\n",
    "\n",
    "# important constants:\n",
    "\n",
    "# speed of light\n",
    "c = 299792.458 # km s^-1 \n",
    "\n",
    "# Planck constant\n",
    "hbar = 6.582119569*10**(-16) # eV*s\n",
    "\n",
    "# Astronomical unit (i.e. the distance between the Sun and the Earth)\n",
    "AU = 149597870.700 # km\n",
    "\n",
    "# Equatorial radius of the Sun\n",
    "r_sun = 696342 # km\n",
    "r_sun_core = 0.12*r_sun # km\n",
    "# Volume sun and core\n",
    "V_sun = 4*np.pi*r_sun*r_sun*r_sun / 3 # km^3\n",
    "V_sun_core = 4*np.pi*r_sun_core*r_sun_core*r_sun_core / 3 # km^3\n",
    "V_rest = V_sun - V_sun_core # km^3\n",
    "\n",
    "# Electron density\n",
    "N0 = 6.02214076*10**23 # Avogadro's number\n",
    "mean_density_sun_core = 113*10**3 # kg m^-3\n",
    "mean_mol_weight_e = 1.69 \n",
    "e_density_sun_core = N0 * mean_density_sun_core / mean_mol_weight_e\n",
    "\n",
    "# mass eigenstates vector\n",
    "mar_3f = np.array([m1, m2, m3]) \n",
    "\n",
    "#rotational matrix\n",
    "U1 = np.array([[1, 0, 0], [0, np.cos(th23), np.sin(th23)], [0, -np.sin(th23), np.cos(th23)]]) #first matrix\n",
    "U2 = np.array([[np.cos(th13), 0, np.sin(th13)*np.exp(-1j*delta_CP)], [0, 1, 0], \n",
    "               [-np.sin(th13)*np.exp(1j*delta_CP), 0, np.cos(th13)]]) #second matrix\n",
    "U3 = np.array([[np.cos(th12), np.sin(th12), 0], [-np.sin(th12), np.cos(th12), 0], [0, 0, 1]]) #third matrix\n",
    "rot_mat_3f = np.dot(U1, np.dot(U2, U3)) #final matrix\n",
    "\n",
    "# check that the 3x3 matrix is unitary\n",
    "herm = np.transpose(np.conjugate(rot_mat_3f))\n",
    "\n",
    "########\n",
    "\n",
    "def full_prob(L, E, alpha):\n",
    "    \"\"\"Calculates the probability of a neutrino of flavour alpha to remain of that same flavour or to change into another\n",
    "    flavour\n",
    "    Takes as inputs the distance L (in kilometers), the energy at which the neutrino is created E (in eV), \n",
    "    and the initial flavour alpha (\"electron\", \"muon\", or \"tau\")\n",
    "    Returns an array with three elements respectively representing the probability of the neutrino being an electron, muon\n",
    "    or tau neutrino\"\"\"\n",
    "    \n",
    "    # transform from string to integer\n",
    "    if alpha == \"electron\":\n",
    "        a = 0\n",
    "    elif alpha == \"muon\":\n",
    "        a = 1\n",
    "    elif alpha == \"tau\":\n",
    "        a = 2\n",
    "    else:\n",
    "        print('Error: choose from \"electron\", \"muon\" or \"tau\"')\n",
    "        \n",
    "    # calculate X_{ij} (argument of sine squared)\n",
    "    X = np.zeros((3, 3)) #store\n",
    "    for i in range(3):\n",
    "        for j in range(3):\n",
    "            X[i, j] = 1267000000*(mar_3f[i]*mar_3f[i] - mar_3f[j]*mar_3f[j]) * L / (4*E)\n",
    "        \n",
    "    # calculate probabilities\n",
    "    U = rot_mat_3f \n",
    "    vals = np.zeros(3) #store\n",
    "    for b in range(3): \n",
    "        sum_re_parts = 0\n",
    "        sum_im_parts = 0\n",
    "        for i in range(3):\n",
    "                for j in range(i):\n",
    "                    term = np.conj(U[a, i])*U[b, i]*U[a, j]*np.conj(U[b, j])\n",
    "                    re_part = np.real(term)*np.sin(X[i,j])*np.sin(X[i,j])\n",
    "                    im_part = np.imag(term)*np.sin(2*X[i,j])\n",
    "                    sum_re_parts += re_part\n",
    "                    sum_im_parts += im_part\n",
    "        if b == a:\n",
    "            vals[b] = 1 - 4*sum_re_parts + 2*sum_im_parts\n",
    "        else:\n",
    "            vals[b] = - 4*sum_re_parts + 2*sum_im_parts\n",
    "            \n",
    "    return vals"
   ]
  },
  {
   "cell_type": "code",
   "execution_count": 3,
   "metadata": {},
   "outputs": [],
   "source": [
    "####### Setting up initial data #######\n",
    "\n",
    "g = 35               # gravitational acceleration (m.s^-2)\n",
    "mass_bird = 1        # mass of the bird (kg)\n",
    "radius_bird = 0.2    # radius of the bird (m)\n",
    "x0 = 0.0             # initial x-coordinate of the bird\n",
    "y0 = 0.5 + radius_bird # initial y-coordinate of the bird\n",
    "p = 300              # density of the target (kg.m^-3) ~ density of a balsa type of wood\n",
    "contact_time = 0.01  # contact time of the impact between the bird and the target (sec)\n",
    "dt = 0.012           # time interval for the animations (sec)\n",
    "d_angle = 0.06       # angle interval for the animation of the toppling of the target (rad)\n",
    "\n",
    "bird_color = [color.red,color.blue,color.green]\n",
    "bird_mass_topple = [0.9,1.5,2.2]\n",
    "\n",
    "empty_heart = \"\\u2661\" + \" \"\n",
    "full_heart = \"\\u2665\" + \"  \"\n",
    "\n",
    "V_center = vector(8,0,0)\n",
    "V_camera = vector(4,2,12)\n",
    "V_title = vector(2,6,-2)\n",
    "V_button = vector(-1,1,2)"
   ]
  },
  {
   "cell_type": "code",
   "execution_count": 4,
   "metadata": {},
   "outputs": [],
   "source": [
    "####################### Functions ###########################\n",
    "\n",
    "def trajectory(x_pos):\n",
    "    '''\n",
    "    Calculates the trajectory (y coordinate) at a given horizontal distance (x coordinate) from the lauch point.\n",
    "    \n",
    "    Input: \n",
    "     - x_pos: x coordinate of the point where the trajectory is required.\n",
    "     \n",
    "    Output:\n",
    "     - trajectory: y coordinate of the particle at this point.\n",
    "    '''\n",
    "    \n",
    "    trajectory = -g*(x_pos-x0)**2 / (2*v0**2*np.cos(theta)**2) + np.tan(theta)*(x_pos-x0) + y0\n",
    "    \n",
    "    return trajectory    \n",
    "\n",
    "\n",
    "\n",
    "def vector_list():   \n",
    "    global v0\n",
    "    global theta\n",
    "    Vectors=[]\n",
    "    xpoints_slider=np.linspace(0,3,15)\n",
    "    for x in xpoints_slider:\n",
    "        Vectors.append(vector(x,trajectory(x),0))\n",
    "    return Vectors\n",
    "\n",
    "def setV(v):\n",
    "    global v0\n",
    "    wt1.text = 'Launch speed: ' + '{:1.0f}'.format(sl1.value*1.25) + ' km/s'\n",
    "    v0 = v.value\n",
    "    c.clear()\n",
    "    c.append(vector_list())\n",
    "    \n",
    "def setTheta(t):\n",
    "    global theta\n",
    "    wt2.text = 'Launch angle: ' + '{:1.0f}'.format(sl2.value) + ' degrees'\n",
    "    theta = np.radians(t.value)\n",
    "    c.clear()\n",
    "    c.append(vector_list())"
   ]
  },
  {
   "cell_type": "code",
   "execution_count": 5,
   "metadata": {},
   "outputs": [],
   "source": [
    "######################### ANIMATION #####################\n",
    "\n",
    "def runanim():\n",
    "    \n",
    "    global scene\n",
    "    global v0\n",
    "    global x0\n",
    "    global y0\n",
    "    global mass_topple\n",
    "    global theta\n",
    "    global target\n",
    "    global c\n",
    "    global level\n",
    "    global life\n",
    "    global label_level\n",
    "    global highscore\n",
    "    global highscore_label\n",
    "    global target_pos\n",
    "    global sl1\n",
    "    global sl2\n",
    "    \n",
    "    # Initial data with respect to the scene set up \n",
    "    mass_target = p*(target.length*target.width*target.height)  # setting up the mass of the target (m = p*V)\n",
    "    hit_tolerance = radius_bird + target.length/2               # computing the value of the hit tolerance : x-distance between bird.pos and target.pos at the time of the collision\n",
    "    x_impact = target.pos.x - hit_tolerance                     # x-coordinate of the impact point\n",
    "    t_restoring = mass_target*g*target.length/2                 # computing the magnitude of the restoring torque of the target\n",
    "    \n",
    "    obj = scene.mouse.pick\n",
    "    \n",
    "    if (obj == launch_button) :\n",
    "        \n",
    "        scene.unbind('click', runanim)\n",
    "        sl1.disabled = True\n",
    "        sl2.disabled = True\n",
    "        \n",
    "        c.clear()\n",
    "        \n",
    "        _thread.start_new_thread (playsound, (\"Launch.mp3\",))\n",
    "        time.sleep(0.5)\n",
    "\n",
    "        x = x0\n",
    "        y = y0\n",
    "        t = 0\n",
    "        distance_covered = 0\n",
    "\n",
    "        # while the ball hasn't reached the target\n",
    "        while x <= x_impact and y > 0 :\n",
    "\n",
    "            # time increases by dt\n",
    "            rate(25)\n",
    "            t += dt\n",
    "\n",
    "            distance_covered += np.sqrt(abs(x - (x0 + v0*t*np.cos(theta)))**2 + abs(y - (y0 + v0*t*np.sin(theta) - 0.5*g*t**2))**2)\n",
    "\n",
    "            prob = full_prob(1.25*distance_covered, E_sun_pp, 'tau').tolist()\n",
    "            prob_max = np.amax(prob)\n",
    "            index_max = prob.index(prob_max)\n",
    "\n",
    "            mass_topple = bird_mass_topple[index_max]\n",
    "            bird.color = bird_color[index_max]\n",
    "            bird.trail_color = bird_color[index_max]\n",
    "\n",
    "            x = x0 + v0*t*np.cos(theta)               # new x-position of the bird\n",
    "            y = y0 + v0*t*np.sin(theta) - 0.5*g*t**2  # new y-position of the bird\n",
    "            bird.pos = vector(x,y,0)                  # updating the position of the bird\n",
    "\n",
    "\n",
    "        # if the bird misses with the target\n",
    "        if y > target.height + bird.radius/2 :\n",
    "\n",
    "            # while the bird is above the ground \n",
    "            while x < 35 and y >= 0:\n",
    "\n",
    "                # time increases by dt\n",
    "                rate(25)\n",
    "                t += dt\n",
    "\n",
    "                distance_covered += np.sqrt(abs(x - (x0 + v0*t*np.cos(theta)))**2 + abs(y - (y0 + v0*t*np.sin(theta) - 0.5*g*t**2))**2)\n",
    "\n",
    "                prob = full_prob(1.25*distance_covered, E_sun_pp, 'tau').tolist()\n",
    "                prob_max = np.amax(prob)\n",
    "                index_max = prob.index(prob_max)\n",
    "                \n",
    "                mass_topple = bird_mass_topple[index_max]\n",
    "                bird.color = bird_color[index_max]\n",
    "                bird.trail_color = bird_color[index_max]\n",
    "\n",
    "                x = x0 + v0*t*np.cos(theta)               # new x-position of the bird\n",
    "                y = y0 + v0*t*np.sin(theta) - 0.5*g*t**2  # new y-position of the bird\n",
    "                bird.pos = vector(x,y,0)                  # updating the position of the bird\n",
    "    \n",
    "\n",
    "        # if the birds collides with target\n",
    "        elif 0 < y < target.height + bird.radius/2 :\n",
    "            \n",
    "            _thread.start_new_thread (playsound, (\"Boing.mp3\",))\n",
    "\n",
    "            c_rot = target.pos + vector(target.length/2,-target.height/2,0)   # center of rotation position\n",
    "            bird_momentum = vector(mass_topple*v0*np.cos(theta) , mass_topple*v0*np.sin(theta) - mass_topple*g*t , 0) # momentum of the bird at the time of the impact\n",
    "            vector_da = vector(x_impact,trajectory(x_impact),0) - c_rot       # vector from the point of rotation to the point of impact\n",
    "            t_applied_vector = cross(bird_momentum/contact_time,vector_da)    # torque applied by the bird on the target\n",
    "            t_applied = mag(t_applied_vector)                                 # magnitude of the torque applied \n",
    "\n",
    "            # if the applied torque is enough to topple the target \n",
    "            if t_applied > t_restoring :\n",
    "                \n",
    "                v = vector(x0 + v0*(t+1)*np.cos(theta) - x, y0 + v0*(t+1)*np.sin(theta) - 0.5*g*(t+1)**2 - y,0)\n",
    "                \n",
    "                t_bounce = 0 \n",
    "                x0_bounce = x\n",
    "                y0_bounce = y\n",
    "                v0_bounce = 0.35 * mag(v)\n",
    "                theta_bounce = np.arctan(v.y/v.x)\n",
    "                \n",
    "                dtheta=0\n",
    "                t=0\n",
    "    \n",
    "                while dtheta<=(np.pi/2):\n",
    "            \n",
    "                    rate(25)\n",
    "                    dtheta+=(np.pi/2+0.002)/20\n",
    "                    target.rotate(angle=(np.pi/2+0.002)/20,axis=vector(0,0,-1),origin=vector(target_pos+target.length/2,0,0))\n",
    "                    \n",
    "                    if y > bird.radius :\n",
    "                        \n",
    "                        t_bounce += dt  # time increases by dt                    \n",
    "                        \n",
    "                        distance_covered += np.sqrt(abs(x - (x0_bounce - v0_bounce*t_bounce*np.cos(theta_bounce)))**2 + abs(y - (y0_bounce + v0_bounce*t_bounce*np.sin(theta_bounce) - 0.5*g*t_bounce**2))**2)\n",
    "\n",
    "                        prob = full_prob(1.25*distance_covered, E_sun_pp, 'tau').tolist()\n",
    "                        prob_max = np.amax(prob)\n",
    "                        index_max = prob.index(prob_max)\n",
    "\n",
    "                        mass_topple = bird_mass_topple[index_max]\n",
    "                        bird.color = bird_color[index_max]\n",
    "                        bird.trail_color = bird_color[index_max]\n",
    "                        \n",
    "                        x = x0_bounce - v0_bounce*t_bounce*np.cos(theta_bounce)               # new x-position of the bird\n",
    "                        y = y0_bounce + v0_bounce*t_bounce*np.sin(theta_bounce) - 0.5*g*t_bounce**2  # new y-position of the bird  \n",
    "\n",
    "                        bird.pos = vector(x,y,0)    # updating the position of the bird\n",
    "                \n",
    "                level+=1\n",
    "                target.height = 3 + 1.5 * random()\n",
    "                target_pos = 5 + level*2\n",
    "                target.pos = vector(target_pos,target.height/2,0)\n",
    "                target.axis = vector(1,0,0)\n",
    "                label_level.text= \"Level \" + str(level)\n",
    "                \n",
    "                life += 1\n",
    "                \n",
    "                if level > highscore :\n",
    "                    highscore += 1\n",
    "                    highscore_label.text = \"Highscore: Level  \" + str(highscore)\n",
    "                 \n",
    "                    \n",
    "            # if the applied torque isn't enough to topple the target --> falling of the bird following a vertical straight line\n",
    "            else :\n",
    "                \n",
    "                v = vector(x0 + v0*(t+1)*np.cos(theta) - x, y0 + v0*(t+1)*np.sin(theta) - 0.5*g*(t+1)**2 - y,0)\n",
    "                \n",
    "                t_bounce = 0 \n",
    "                x0_bounce = x\n",
    "                y0_bounce = y\n",
    "                v0_bounce = 0.35 * mag(v)\n",
    "                theta_bounce = np.arctan(v.y/v.x)\n",
    "                \n",
    "                # while the bird is still above the ground \n",
    "                while y > bird.radius :\n",
    "                    \n",
    "                    rate(25)\n",
    "                    \n",
    "                    t_bounce += dt  # time increases by dt                    \n",
    "                        \n",
    "                    distance_covered += np.sqrt(abs(x - (x0_bounce - v0_bounce*t_bounce*np.cos(theta_bounce)))**2 + abs(y - (y0_bounce + v0_bounce*t_bounce*np.sin(theta_bounce) - 0.5*g*t_bounce**2))**2)\n",
    "\n",
    "                    prob = full_prob(1.25*distance_covered, E_sun_pp, 'tau').tolist()\n",
    "                    prob_max = np.amax(prob)\n",
    "                    index_max = prob.index(prob_max)\n",
    "\n",
    "                    mass_topple = bird_mass_topple[index_max]\n",
    "                    bird.color = bird_color[index_max]\n",
    "                    bird.trail_color = bird_color[index_max]\n",
    "                        \n",
    "                    x = x0_bounce - v0_bounce*t_bounce*np.cos(theta_bounce)               # new x-position of the bird\n",
    "                    y = y0_bounce + v0_bounce*t_bounce*np.sin(theta_bounce) - 0.5*g*t_bounce**2  # new y-position of the bird  \n",
    "\n",
    "                    bird.pos = vector(x,y,0)    # updating the position of the bird\n",
    "    \n",
    "        \n",
    "        # Updating lifes\n",
    "        life += -1\n",
    "        \n",
    "        i = 1\n",
    "        life_text = \" Lives    -    \"\n",
    "        while i <= life:\n",
    "            life_text = life_text + full_heart\n",
    "            i += 1\n",
    "        while i <= 5:\n",
    "            life_text = life_text + empty_heart\n",
    "            i += 1\n",
    "            \n",
    "        # Initialisation\n",
    "        if bird.make_trail == True :\n",
    "            bird.make_trail = False\n",
    "            \n",
    "        life_label.text = life_text\n",
    "        bird.clear_trail()\n",
    "        bird.pos = vector(x0,y0,0)\n",
    "        bird.color = bird_color[2]\n",
    "        mass_topple = bird_mass_topple[2]\n",
    "        bird.make_trail = True\n",
    "        \n",
    "        c.append(vector_list())\n",
    "        \n",
    "        while bird.pos != vector(x0,y0,0):\n",
    "            t = 0\n",
    "            \n",
    "        scene.bind('click', runanim)\n",
    "        sl1.disabled = False\n",
    "        sl2.disabled = False\n",
    "          \n",
    "        # Game over action\n",
    "        if life <= 0:\n",
    "            \n",
    "            time.sleep(1)\n",
    "            _thread.start_new_thread (playsound, (\"GameOver.mp3\",))\n",
    "            \n",
    "            game_over = label(text = 'GAME OVER', pos = vector(6,2,2), color=vector(0.7,0.7,0.7) , height = 10, box = False, opacity = 0)\n",
    "            t = 0\n",
    "            while t <= 5000:\n",
    "                rate(25)\n",
    "                game_over.height += 1\n",
    "                t += 50\n",
    "                \n",
    "            scene.delete()\n",
    "            clear_output()\n",
    "            game_start()\n",
    "\n",
    "#############################################################################################################################"
   ]
  },
  {
   "cell_type": "code",
   "execution_count": 6,
   "metadata": {},
   "outputs": [],
   "source": [
    "################### CANVAS #######################\n",
    "\n",
    "def game_start() :\n",
    "    \n",
    "    global scene\n",
    "    global v0\n",
    "    global theta\n",
    "    global target\n",
    "    global c\n",
    "    global level\n",
    "    global life\n",
    "    global label_level\n",
    "    global life_label\n",
    "    global highscore\n",
    "    global highscore_label\n",
    "    global target_pos\n",
    "    global target_height\n",
    "    global launch_button\n",
    "    global sl1\n",
    "    global sl2\n",
    "    global bird\n",
    "    global wt1\n",
    "    global wt2\n",
    "    \n",
    "    # Initial parameters\n",
    "    v0=15\n",
    "    theta=45\n",
    "    target_height = 3 + 1.5*random()\n",
    "    level = 1\n",
    "    target_pos= 5 + 2*level\n",
    "    life = 5\n",
    "\n",
    "    # Setting up the scene \n",
    "    print('\\n\\n\\n\\n\\n')\n",
    "    scene = canvas(width=1000, height=650, center=V_center, range=8, background=color.cyan)   # scene where the game animations will be displayed\n",
    "    scene.camera.pos = V_camera                                                               # position of the camera (from where the player sees the game)\n",
    "    scene.forward = V_center - scene.camera.pos                                               # axis of the camera (in which direction the player is looking)\n",
    "    scene.camera.axis = V_center - scene.camera.pos                                           # axis of the camera (in which direction the player is looking)\n",
    "    scene.userzoom = False\n",
    "    scene.userspin = False\n",
    "\n",
    "    # positioning the ground of the animation\n",
    "    i = -50\n",
    "    j = -50\n",
    "    while i <= 100:\n",
    "        while j <= 50:\n",
    "            box(pos = vector(i,-0.01,j), length=5, height=0.01, width=5, texture = 'grass.jpg')  # texture = '/nbextensions/vpython_data/grass.jpg')\n",
    "            j += 5\n",
    "        j = -50\n",
    "        i += 5\n",
    "\n",
    "    # positioning the target at a random position\n",
    "    target = box(pos=vector(target_pos,target_height/2,0), length=0.5, height=target_height , width=0.5, color = color.black)\n",
    "\n",
    "    # box\n",
    "    pedestal = box(pos = vector(0,0.25,0), length = 1, width = 2, height = 0.5, texture = textures.wood)\n",
    "\n",
    "    # Sky\n",
    "    sky = box(pos=vector(50,22,-50),axis=vector(1,0,0.7), length=200, width=1, height=50, texture = 'Clouds.jpg')  # texture = '/nbextensions/vpython_data/Clouds.jpg')\n",
    "    \n",
    "    # Legend \n",
    "    legend = label(text = '    Mass  Hierarchy    \\n\\n >         > \\n', pos = vector(25,9,0), color = color.black,  box = False, opacity = 0, height = 23) \n",
    "    legend_tau = sphere(pos = vector(20,6.6,0), radius = 0.7, color=color.green)\n",
    "    legend_muon = sphere(pos = vector(25.6,7,0), radius = 0.6, color=color.blue)\n",
    "    legend_elec = sphere(pos = vector(32.8,7.5,0), radius = 0.5, color=color.red)\n",
    "\n",
    "    # positioning the bird on the origin of the scene\n",
    "    bird = sphere(pos = vector(x0,y0,0), radius = 0.2, color=color.green, make_trail = True, trail_color = color.green, trail_radius = 0.035, pps = 5)\n",
    "\n",
    "    # Text\n",
    "    label_title = label(text = 'ANGRY NEUTRINOS',pos = vector(8,6.9,0), color = color.black, box = False , height = 40, opacity = 0)\n",
    "    label_level = label(text = \"Level \" + str(level) , pos = vector(8,5.9,0), color = color.black, box = False, height = 35, opacity = 0)\n",
    "\n",
    "    # Launch button\n",
    "    launch_button = box(pos = V_button, length = 0.1, width = 0.3, height = 0.3, axis = V_button + V_camera + vector(-4,0,0), color = color.black)\n",
    "    launch_button.rotate(angle =- np.pi/6.5, axis= V_camera, origin=V_button)\n",
    "    label_button = label(text = 'GO',pos = V_button + vector(0,0,-0.05), color = color.white, box = False, background = color.black , height = 25, opacity = 1, border = 10)\n",
    "\n",
    "    # Lives\n",
    "    life_text = \" Lives    -    \" + full_heart + full_heart + full_heart + full_heart + full_heart\n",
    "    life_label = label(text = life_text, pos = vector(4.25, 0, 9.25) , height = 30 , color = color.red , box = False, opacity = 0)\n",
    "\n",
    "    # Highscore\n",
    "    highscore_label = label(text = \"Highscore: Level  \" + str(highscore), pos = vector(1,6,0), color = color.black , box = False, opacity = 0, height = 23)\n",
    "    \n",
    "    # Scale\n",
    "    scale = curve (vector(-0.8,0.5,6),vector(0.2,0.5,6), color = color.black)\n",
    "    scale_start = box(pos = vector(-0.8,0.5,6), length = 0.05, width = 0.1, height = 0.1, color = color.black )\n",
    "    scale_end = box(pos = vector(0.2,0.5,6), length = 0.05, width = 0.1, height = 0.1, color = color.black )\n",
    "    scale_label = label(text = '1.25 km', pos = vector(-0.1,0.5,6.55), color = color.black , box = False, opacity = 0, height = 23)\n",
    "    \n",
    "    # Aiming\n",
    "    c = points(radius = 2.5)  \n",
    "    c.append(vector_list())\n",
    "\n",
    "    # Slider Speed\n",
    "    sl1 = slider(min = 10 , max = 30 , value = 15, length = 220 , bind = setV, left = 50, right = 15)\n",
    "    wt1 = wtext(text = 'Launch speed: ' + '{:1.0f}'.format(sl1.value*1.25) + ' km/s') \n",
    "\n",
    "    # Slider angle    \n",
    "    sl2 = slider(min = 0 , max = 90 , value = 45, length = 220 , bind = setTheta, left = 150, right = 15)\n",
    "    wt2 = wtext(text = 'Launch angle: ' + '{:1.0f}'.format(sl2.value) + ' degrees') \n",
    "\n",
    "    # Launch by clicking on animation\n",
    "    scene.bind('click', runanim)\n",
    "    \n",
    "    print('\\n\\n\\n\\n\\n')\n",
    "    \n",
    "##################################################################################################################################################################################"
   ]
  },
  {
   "cell_type": "code",
   "execution_count": 7,
   "metadata": {
    "scrolled": false
   },
   "outputs": [
    {
     "name": "stdout",
     "output_type": "stream",
     "text": [
      "\n",
      "\n",
      "\n",
      "\n",
      "\n",
      "\n"
     ]
    },
    {
     "data": {
      "text/html": [
       "<div id=\"glowscript\" class=\"glowscript\"></div>"
      ],
      "text/plain": [
       "<IPython.core.display.HTML object>"
      ]
     },
     "metadata": {},
     "output_type": "display_data"
    },
    {
     "data": {
      "application/javascript": [
       "if (typeof Jupyter !== \"undefined\") { window.__context = { glowscript_container: $(\"#glowscript\").removeAttr(\"id\")};}else{ element.textContent = ' ';}"
      ],
      "text/plain": [
       "<IPython.core.display.Javascript object>"
      ]
     },
     "metadata": {},
     "output_type": "display_data"
    },
    {
     "data": {
      "application/javascript": [
       "if (typeof Jupyter !== \"undefined\") {require.undef(\"nbextensions/vpython_libraries/glow.min\");}else{element.textContent = ' ';}"
      ],
      "text/plain": [
       "<IPython.core.display.Javascript object>"
      ]
     },
     "metadata": {},
     "output_type": "display_data"
    },
    {
     "data": {
      "application/javascript": [
       "if (typeof Jupyter !== \"undefined\") {require.undef(\"nbextensions/vpython_libraries/glowcomm\");}else{element.textContent = ' ';}"
      ],
      "text/plain": [
       "<IPython.core.display.Javascript object>"
      ]
     },
     "metadata": {},
     "output_type": "display_data"
    },
    {
     "data": {
      "application/javascript": [
       "if (typeof Jupyter !== \"undefined\") {require.undef(\"nbextensions/vpython_libraries/jquery-ui.custom.min\");}else{element.textContent = ' ';}"
      ],
      "text/plain": [
       "<IPython.core.display.Javascript object>"
      ]
     },
     "metadata": {},
     "output_type": "display_data"
    },
    {
     "data": {
      "application/javascript": [
       "if (typeof Jupyter !== \"undefined\") {require([\"nbextensions/vpython_libraries/glow.min\"], function(){console.log(\"GLOW LOADED\");});}else{element.textContent = ' ';}"
      ],
      "text/plain": [
       "<IPython.core.display.Javascript object>"
      ]
     },
     "metadata": {},
     "output_type": "display_data"
    },
    {
     "data": {
      "application/javascript": [
       "if (typeof Jupyter !== \"undefined\") {require([\"nbextensions/vpython_libraries/glowcomm\"], function(){console.log(\"GLOWCOMM LOADED\");});}else{element.textContent = ' ';}"
      ],
      "text/plain": [
       "<IPython.core.display.Javascript object>"
      ]
     },
     "metadata": {},
     "output_type": "display_data"
    },
    {
     "data": {
      "application/javascript": [
       "if (typeof Jupyter !== \"undefined\") {require([\"nbextensions/vpython_libraries/jquery-ui.custom.min\"], function(){console.log(\"JQUERY LOADED\");});}else{element.textContent = ' ';}"
      ],
      "text/plain": [
       "<IPython.core.display.Javascript object>"
      ]
     },
     "metadata": {},
     "output_type": "display_data"
    },
    {
     "name": "stdout",
     "output_type": "stream",
     "text": [
      "\n",
      "\n",
      "\n",
      "\n",
      "\n",
      "\n"
     ]
    }
   ],
   "source": [
    "highscore = 1\n",
    "game_start()"
   ]
  },
  {
   "cell_type": "markdown",
   "metadata": {},
   "source": [
    "  "
   ]
  },
  {
   "cell_type": "markdown",
   "metadata": {},
   "source": [
    " "
   ]
  },
  {
   "cell_type": "markdown",
   "metadata": {},
   "source": [
    " "
   ]
  },
  {
   "cell_type": "markdown",
   "metadata": {},
   "source": [
    " "
   ]
  },
  {
   "cell_type": "markdown",
   "metadata": {},
   "source": [
    " "
   ]
  },
  {
   "cell_type": "markdown",
   "metadata": {},
   "source": [
    " "
   ]
  },
  {
   "cell_type": "markdown",
   "metadata": {},
   "source": [
    " "
   ]
  }
 ],
 "metadata": {
  "kernelspec": {
   "display_name": "Python 3",
   "language": "python",
   "name": "python3"
  },
  "language_info": {
   "codemirror_mode": {
    "name": "ipython",
    "version": 3
   },
   "file_extension": ".py",
   "mimetype": "text/x-python",
   "name": "python",
   "nbconvert_exporter": "python",
   "pygments_lexer": "ipython3",
   "version": "3.7.4"
  }
 },
 "nbformat": 4,
 "nbformat_minor": 2
}
